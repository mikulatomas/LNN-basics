{
 "cells": [
  {
   "cell_type": "markdown",
   "metadata": {},
   "source": [
    "# Upward inference notebook\n",
    "\n",
    "## The basics\n",
    "\n",
    "### Model structure\n",
    "Logical Neural Network correspond to a set of logical formulae which can be represented with formulae's syntax trees.\n",
    "\n",
    "We will start with simple example where LNN can be represented by one [*logical formula*](https://en.wikipedia.org/wiki/First-order_logic#Formulas) with [*logical implication*](https://en.wikipedia.org/wiki/Truth_table#Logical_implication). This can be visualised as following syntax tree.\n",
    "\n",
    "![implication_graph](images/implication_graph_plain.png)\n",
    "\n",
    "### Upward inference principle\n",
    "Upward inference is evaluation of the *operator* given all the *operands*. In our case logical implication is operator and values $a$ and $b$ are operands. Following image illustrate why we use word \"upward\", upward inference starts on the bottom of the syntax tree and continue upward by evaluating the operands.\n",
    "\n",
    "![implication_graph](images/implication_graph.png)\n",
    "\n",
    "In this case we will be evaluating logical implication which is described with following *truth table*. When values $a$ and $b$ are evalueted to $False$ and $True$ respectively, the whole logical implication is evaluated to $False$, which is visible on third row of the table.\n",
    "\n",
    "![implication_tt](images/implication_tt.png)"
   ]
  },
  {
   "cell_type": "markdown",
   "metadata": {},
   "source": [
    "### Predicates\n",
    "\n",
    "In the [First-order logic](https://en.wikipedia.org/wiki/First-order_logic), values $a$ and $b$ follows from specific domain which includes objects and its relations. The relations are called [*predicates*](https://en.wikipedia.org/wiki/Predicate_%28mathematical_logic%29) and they are usually named by capital letters (for example $P$, $Q$, latter we will use names from natural language so do not be confused). The notatiton $P(x)$ describes the value of predicate $P$ for variable $x$ (where $x$ can be some object from our domain).\n",
    "\n",
    "Predicates can be described by following table (description for predicates $P$ and $Q$). First row tell us that $P(x)$ for $x = object1$ equals $True$ etc.\n",
    "\n",
    "![predicate_table](images/predicate_table.png)\n",
    "\n",
    "### Upward inferece with predicates\n",
    "\n",
    "Lets have formula $P(x) \\implies Q(x)$, syntax tree can be visualised in simillar fashion as the previous one.\n",
    "\n",
    "![implication_graph_predicate](images/implication_graph_predicate.png)\n",
    "\n",
    "So if we want to evaluate formula $P(x) \\implies Q(x)$, we first have to evaluate operands $P(x)$ and $Q(x)$. Lets say that $P(x)$, $Q(x)$ will be evaluated to $True$, $False$ respectively. Next we evaluate implication operand with given operands which gives us $False$ as result of evaluation.\n",
    "\n",
    "![upward_inference](images/upward_inference.png)\n",
    "\n",
    "The results of upward inference can be shown in following table where first row describes our objects (also called *constants*), in the two middle columns truth values for both predicates given specific constant are displayed and the last column contains truth value of evaluated formula with given predicates and given constant.\n",
    "\n",
    "![predicate_tt](images/predicate_tt.png)"
   ]
  },
  {
   "cell_type": "markdown",
   "metadata": {},
   "source": [
    "## Grecian domain\n",
    "\n",
    "Now we are ready to move to our specific example and finally create a LNN model. We usually start with formulation of our problem in natural language, that will define our *domain*.\n",
    "\n",
    "* Grecians are mortal.<br>\n",
    "* Zeus is a grecian, is not mortal.<br>\n",
    "* Socrates is a grecian, is mortal.<br>\n",
    "* Confucius is not a grecian, is mortal.<br>\n",
    "* Great Pyramid of Giza is not grecian, is not mortal.\n",
    "\n",
    "### First order logic description\n",
    "Now let us translate this domain into First-order logic.\n",
    "\n",
    "#### Predicates\n",
    "The word \"grecian\" and \"mortal\" defines relations to our objects (for example \"Socrates is grecian\", \"Confucius is mortal\" etc.), we can create two predicates `grecian(x)` and `mortal(x)`.\n",
    "\n",
    "#### Formulae\n",
    "The \"Grecians are mortal\" sentence can be translated as formula with implication and two predicates.\n",
    "\n",
    "$grecian(x) \\implies mortal(x)$\n",
    "\n",
    "#### Objects\n",
    "Our natural language description mentions following set of objects `{Zeus, Socrates, Confucius, Great Pyramid of Giza}`. Their relations are represented by following table:\n",
    "\n",
    "![grecian_tt](images/grecian_tt_predicates.png)\n",
    "\n",
    "Syntax tree is shown on following example (note its structurally same as the one above).\n",
    "\n",
    "![grecian_graph](images/grecian_graph.png)\n",
    "\n",
    "### Our goal\n",
    "We would like to infer truth values for formula which represents sentence \"Grecians are mortal\" for each object from `{Zeus, Socrates, Confucius, Great Pyramid of Giza}`. Since we do not have truth values for it from our domain description.\n",
    "\n",
    "![grecian_tt](images/grecian_tt.png)"
   ]
  },
  {
   "cell_type": "markdown",
   "metadata": {},
   "source": [
    "### Definition of LNN model\n",
    "\n",
    "Now we will define our model in LNN library."
   ]
  },
  {
   "cell_type": "markdown",
   "metadata": {},
   "source": [
    "First we will create an empty model."
   ]
  },
  {
   "cell_type": "code",
   "execution_count": 1,
   "metadata": {},
   "outputs": [],
   "source": [
    "from lnn import Model\n",
    "\n",
    "model = Model()"
   ]
  },
  {
   "cell_type": "markdown",
   "metadata": {},
   "source": [
    "Define our predicates and add them to the model. Note we add predicates as formulae, since predicates are in fact atomic formulae."
   ]
  },
  {
   "cell_type": "code",
   "execution_count": 2,
   "metadata": {},
   "outputs": [],
   "source": [
    "from lnn import Predicate\n",
    "\n",
    "grecian = Predicate(name=\"grecian\")\n",
    "mortal = Predicate(name=\"mortal\")\n",
    "\n",
    "model.add_formulae(grecian, mortal)"
   ]
  },
  {
   "cell_type": "markdown",
   "metadata": {},
   "source": [
    "Now we create one variable and use it in definition of our implication `grecians_are_mortals`, which is later added into our model."
   ]
  },
  {
   "cell_type": "code",
   "execution_count": 3,
   "metadata": {},
   "outputs": [],
   "source": [
    "from lnn import Variable, Implies\n",
    "\n",
    "x = Variable(\"x\")\n",
    "\n",
    "grecians_are_mortals = Implies(grecian(x), mortal(x), name=\"grecians_are_mortals\")\n",
    "\n",
    "model.add_formulae(grecians_are_mortals)"
   ]
  },
  {
   "cell_type": "markdown",
   "metadata": {},
   "source": [
    "Last thing is adding so called *facts* into our model. Facts are objects which were mentioned above."
   ]
  },
  {
   "cell_type": "code",
   "execution_count": 4,
   "metadata": {},
   "outputs": [],
   "source": [
    "from lnn import Fact\n",
    "\n",
    "model.add_facts(\n",
    "    {\n",
    "        \"grecian\": {\n",
    "            \"Great Pyramid of Giza\": Fact.FALSE,\n",
    "            \"Confucius\": Fact.FALSE,\n",
    "            \"Zeus\": Fact.TRUE,\n",
    "            \"Socrates\": Fact.TRUE,\n",
    "        },\n",
    "        \"mortal\": {\n",
    "            \"Great Pyramid of Giza\": Fact.FALSE,\n",
    "            \"Confucius\": Fact.TRUE,\n",
    "            \"Zeus\": Fact.FALSE,\n",
    "            \"Socrates\": Fact.TRUE,\n",
    "        },\n",
    "    }\n",
    ")\n"
   ]
  },
  {
   "cell_type": "markdown",
   "metadata": {},
   "source": [
    "### Upward inference inside LNN model"
   ]
  },
  {
   "cell_type": "markdown",
   "metadata": {},
   "source": [
    "Now we have everything ready for upward inference. The upward inference starts from atoms (two predicates in our case) and compute truth bounds for each subformula (implication in our case)."
   ]
  },
  {
   "cell_type": "code",
   "execution_count": 5,
   "metadata": {},
   "outputs": [],
   "source": [
    "from lnn import Direction\n",
    "\n",
    "steps, facts_inferred = model.infer(direction=Direction.UPWARD)"
   ]
  },
  {
   "cell_type": "markdown",
   "metadata": {},
   "source": [
    "Expected result of upward inference in our domain can be seen in following table.\n",
    "\n",
    "![grecian_tt](images/grecian_tt_infered.png)\n",
    "\n",
    "We can easily verify truth values for `grecians_are_mortals`."
   ]
  },
  {
   "cell_type": "code",
   "execution_count": 6,
   "metadata": {},
   "outputs": [
    {
     "name": "stdout",
     "output_type": "stream",
     "text": [
      "OPEN   Implies: grecians_are_mortals(x) \n",
      "'Confucius'                                                 TRUE (1.0, 1.0)\n",
      "'Great Pyramid of Giza'                                     TRUE (1.0, 1.0)\n",
      "'Socrates'                                                  TRUE (1.0, 1.0)\n",
      "'Zeus'                                                     FALSE (0.0, 0.0)\n",
      "\n"
     ]
    }
   ],
   "source": [
    "model[\"grecians_are_mortals\"].print()"
   ]
  }
 ],
 "metadata": {
  "interpreter": {
   "hash": "b08e4317ac3dadd66ff2b630a3808f8622704b72a62f43c1750e624fca33bbd2"
  },
  "kernelspec": {
   "display_name": "Python 3.9.10 ('lnn')",
   "language": "python",
   "name": "python3"
  },
  "language_info": {
   "codemirror_mode": {
    "name": "ipython",
    "version": 3
   },
   "file_extension": ".py",
   "mimetype": "text/x-python",
   "name": "python",
   "nbconvert_exporter": "python",
   "pygments_lexer": "ipython3",
   "version": "3.9.12"
  },
  "orig_nbformat": 4
 },
 "nbformat": 4,
 "nbformat_minor": 2
}
