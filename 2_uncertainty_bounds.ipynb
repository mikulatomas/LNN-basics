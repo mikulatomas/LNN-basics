{
 "cells": [
  {
   "cell_type": "markdown",
   "metadata": {},
   "source": [
    "# Inference with uncertainty bounds\n",
    "In this jupyter notebook we will show simple example of inference with uncertainty bounds in [Logical Neural Networks](https://github.com/IBM/LNN) (LNN).\n"
   ]
  },
  {
   "cell_type": "markdown",
   "metadata": {},
   "source": [
    "## Model definition\n",
    "\n",
    "For this purpose we will keep the predicates and axioms from previous notebook about downward inference."
   ]
  },
  {
   "cell_type": "code",
   "execution_count": 6,
   "metadata": {},
   "outputs": [],
   "source": [
    "from lnn import Model, Predicate, Variable, Implies, ForAll, World, Exists\n",
    "\n",
    "# create empty model\n",
    "model = Model()\n",
    "\n",
    "# define predicates\n",
    "grecian = Predicate(name=\"grecian\")\n",
    "human = Predicate(name=\"human\")\n",
    "mortal = Predicate(name=\"mortal\")\n",
    "\n",
    "# add predicates to the model\n",
    "model.add_formulae(grecian, human, mortal)\n",
    "\n",
    "# define free variable\n",
    "x = Variable(\"x\")\n",
    "\n",
    "# define our axiom\n",
    "some_grecians_are_humans = Exists(\n",
    "    x,\n",
    "    Implies(grecian(x), human(x), name=\"grecians_are_humans\"),\n",
    "    name=\"some_grecians_are_humans\",\n",
    "    world=World.AXIOM,\n",
    ")\n",
    "\n",
    "all_humans_are_mortal = ForAll(\n",
    "    x,\n",
    "    Implies(human(x), mortal(x), name=\"human_is_mortal\"),\n",
    "    name=\"all_humans_are_mortal\",\n",
    "    world=World.AXIOM,\n",
    ")\n",
    "\n",
    "# add axiom to the model\n",
    "model.add_formulae(some_grecians_are_humans, all_humans_are_mortal)\n"
   ]
  },
  {
   "cell_type": "code",
   "execution_count": 7,
   "metadata": {},
   "outputs": [
    {
     "data": {
      "image/png": "[encoded data removed]",
      "text/plain": [
       "<Figure size 432x288 with 1 Axes>"
      ]
     },
     "metadata": {},
     "output_type": "display_data"
    }
   ],
   "source": [
    "from lnn.utils import plot_graph\n",
    "\n",
    "plot_graph(model)"
   ]
  },
  {
   "cell_type": "markdown",
   "metadata": {},
   "source": [
    "Let us make one small change in the facts.\n",
    "\n",
    "Lets say, we are not sure if `Zeus` is grecian because we do not know if this is faithful datapoint. Thus we set $grecian(Zeus)$ to `UNKNOWN`."
   ]
  },
  {
   "cell_type": "code",
   "execution_count": 8,
   "metadata": {},
   "outputs": [],
   "source": [
    "from lnn import Fact\n",
    "\n",
    "\n",
    "model.add_facts(\n",
    "    {\n",
    "        \"grecian\": {\n",
    "            \"Parthenon\": Fact.TRUE,\n",
    "            \"Socrates\": Fact.TRUE,\n",
    "            \"Confucius\": Fact.FALSE,\n",
    "            \"Great Pyramid of Giza\": Fact.FALSE,\n",
    "            \"Zeus\": Fact.UNKNOWN,\n",
    "        },\n",
    "        \"human\": {\n",
    "            \"Parthenon\": Fact.FALSE,\n",
    "            \"Socrates\": Fact.TRUE,\n",
    "            \"Confucius\": Fact.TRUE,\n",
    "            \"Great Pyramid of Giza\": Fact.FALSE,\n",
    "            \"Zeus\": Fact.FALSE,\n",
    "        },\n",
    "    }\n",
    ")\n"
   ]
  },
  {
   "cell_type": "markdown",
   "metadata": {},
   "source": [
    "## Inference\n",
    "\n",
    "Now, we will combine upward and downward inference into single command. We can start chain of upward/downward inferences by calling `Model.infer()`. This computation will run until it converges."
   ]
  },
  {
   "cell_type": "code",
   "execution_count": 9,
   "metadata": {},
   "outputs": [
    {
     "data": {
      "text/plain": [
       "(2, tensor(11., grad_fn=<AddBackward0>))"
      ]
     },
     "execution_count": 9,
     "metadata": {},
     "output_type": "execute_result"
    }
   ],
   "source": [
    "# perform inference\n",
    "steps, facts_inferred = model.infer()\n",
    "\n",
    "# result of the inference can be checked, happened in two steps and eleven facts were inferred\n",
    "steps, facts_inferred"
   ]
  },
  {
   "cell_type": "markdown",
   "metadata": {},
   "source": [
    "Let us examine the result. We can see that $grecians\\_are\\_humans(x)$ and $human\\_is\\_mortal(x)$ yielded `UNKNOWN` for $mortal(Zeus)$.\n",
    "\n",
    "We are not able to infer $grecians\\_are\\_humans(Zeus)$ since $grecian(Zeus)$ is `UNKNOWN`. Because of that we cannot infer $human\\_is\\_mortal(Zeus)$ and thus $mortal(Zeus)$ is `UNKNOWN`."
   ]
  },
  {
   "cell_type": "code",
   "execution_count": 10,
   "metadata": {},
   "outputs": [
    {
     "name": "stdout",
     "output_type": "stream",
     "text": [
      "\n",
      "***************************************************************************\n",
      "                                LNN Model\n",
      "\n",
      "AXIOM  ForAll: all_humans_are_mortal (x)                    TRUE (1.0, 1.0)\n",
      "\n",
      "OPEN   Implies: human_is_mortal(x) \n",
      "'Great Pyramid of Giza'                                     TRUE (1.0, 1.0)\n",
      "'Confucius'                                                 TRUE (1.0, 1.0)\n",
      "'Parthenon'                                                 TRUE (1.0, 1.0)\n",
      "'Socrates'                                                  TRUE (1.0, 1.0)\n",
      "'Zeus'                                                      TRUE (1.0, 1.0)\n",
      "\n",
      "AXIOM  Exists: some_grecians_are_humans (x)                 TRUE (1.0, 1.0)\n",
      "\n",
      "OPEN   Implies: grecians_are_humans(x) \n",
      "'Great Pyramid of Giza'                                     TRUE (1.0, 1.0)\n",
      "'Confucius'                                                 TRUE (1.0, 1.0)\n",
      "'Parthenon'                                                FALSE (0.0, 0.0)\n",
      "'Socrates'                                                  TRUE (1.0, 1.0)\n",
      "'Zeus'                                                   UNKNOWN (0.0, 1.0)\n",
      "\n",
      "OPEN   Predicate: mortal(x0) \n",
      "'Great Pyramid of Giza'                                  UNKNOWN (0.0, 1.0)\n",
      "'Confucius'                                                 TRUE (1.0, 1.0)\n",
      "'Parthenon'                                              UNKNOWN (0.0, 1.0)\n",
      "'Socrates'                                                  TRUE (1.0, 1.0)\n",
      "'Zeus'                                                   UNKNOWN (0.0, 1.0)\n",
      "\n",
      "OPEN   Predicate: human(x0) \n",
      "'Great Pyramid of Giza'                                    FALSE (0.0, 0.0)\n",
      "'Confucius'                                                 TRUE (1.0, 1.0)\n",
      "'Parthenon'                                                FALSE (0.0, 0.0)\n",
      "'Socrates'                                                  TRUE (1.0, 1.0)\n",
      "'Zeus'                                                     FALSE (0.0, 0.0)\n",
      "\n",
      "OPEN   Predicate: grecian(x0) \n",
      "'Great Pyramid of Giza'                                    FALSE (0.0, 0.0)\n",
      "'Confucius'                                                FALSE (0.0, 0.0)\n",
      "'Parthenon'                                                 TRUE (1.0, 1.0)\n",
      "'Socrates'                                                  TRUE (1.0, 1.0)\n",
      "'Zeus'                                                   UNKNOWN (0.0, 1.0)\n",
      "\n",
      "***************************************************************************\n"
     ]
    }
   ],
   "source": [
    "model.print()"
   ]
  }
 ],
 "metadata": {
  "interpreter": {
   "hash": "b08e4317ac3dadd66ff2b630a3808f8622704b72a62f43c1750e624fca33bbd2"
  },
  "kernelspec": {
   "display_name": "Python 3.9.10 ('lnn')",
   "language": "python",
   "name": "python3"
  },
  "language_info": {
   "codemirror_mode": {
    "name": "ipython",
    "version": 3
   },
   "file_extension": ".py",
   "mimetype": "text/x-python",
   "name": "python",
   "nbconvert_exporter": "python",
   "pygments_lexer": "ipython3",
   "version": "3.9.10"
  },
  "orig_nbformat": 4
 },
 "nbformat": 4,
 "nbformat_minor": 2
}
