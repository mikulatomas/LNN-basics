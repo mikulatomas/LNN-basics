{
 "cells": [
  {
   "cell_type": "markdown",
   "metadata": {},
   "source": [
    "# Inference with uncertainty bounds"
   ]
  },
  {
   "cell_type": "markdown",
   "metadata": {},
   "source": [
    "The last two notebooks explained upward and downward inference. In this notebook we will show inference with uncertainty bounds.\n",
    "\n",
    "## Motivation\n",
    "The main motivation is that not every time we know precisely if our data point can be trusted. In that case we would like to do inference which take this into account."
   ]
  },
  {
   "cell_type": "markdown",
   "metadata": {},
   "source": [
    "## Grecian domain\n",
    "\n",
    "We will use same domain as for downward inference notebook with small change. Let us recap it.\n",
    "\n",
    "Description in natural language is as follows:\n",
    "\n",
    "* All grecian is a native or resident of Greece.<br>\n",
    "* Grecians are mortal.<br>\n",
    "* **We are not sure if Zeus is native or resident of Greece, is not mortal.**<br>\n",
    "* Socrates is native of Greece (is not resident of Greece), is mortal.<br>\n",
    "* Confucius is neither native or resident of Greece, is mortal.<br>\n",
    "* Great Pyramid of Giza is neither native or resident of Greece, is not mortal.\n",
    "\n",
    "Note we added the uncertainity to our natural language description. The origin of Zeus is unknown for us.\n",
    "\n",
    "### First order logic description\n",
    "Now let us translate this domain into First-order logic.\n",
    "\n",
    "#### Predicates\n",
    "Natural language definition gives us four predicates: $grecian(x)$, $mortal(x)$, $native\\_of\\_greece(x)$ and $resident\\_of\\_greece(x)$. See previous notebooks for detailed discussion.\n",
    "\n",
    "#### Formulae\n",
    "The sentence \"All grecian is a native or resident of Greece\" can be formulated as following axiom:\n",
    "\n",
    "$(\\forall x) (grecian(x) \\Leftrightarrow native\\_of\\_greece(x) \\lor resident\\_of\\_greece(x))$\n",
    "\n",
    "The sentence \"Grecians are mortal\" is simple formula with logical implication:\n",
    "\n",
    "$grecian(x) \\implies mortal(x)$\n",
    "\n",
    "#### Objects\n",
    "Our natural language description includes following set of objects: `{Zeus, Socrates, Confucius, Great Pyramid of Giza}`. Their relations are represented by following table. Note that we have question marks in row with Zeus.\n",
    "\n",
    "![grecian_downward_tt_unknown](images/grecian_downward_tt_unknown.png)\n",
    "\n",
    "### Our goal\n",
    "Since we are not sure about the origin of Zeus we would like to do inference which takes this uncertainty into account. What does it mean? We expect that downward inference will not be able to infer if Zeus is grecian or not.\n",
    "\n",
    "Situation is described by following table:\n",
    "\n",
    "![grecian_downward_tt](images/grecian_downward_tt_unknown_overview.png)"
   ]
  },
  {
   "cell_type": "markdown",
   "metadata": {},
   "source": [
    "### Definition of LNN model\n",
    "\n",
    "Now we will define our model in LNN library. The definition is almost same as in the previous two notebooks."
   ]
  },
  {
   "cell_type": "markdown",
   "metadata": {},
   "source": [
    "First we will create an empty model."
   ]
  },
  {
   "cell_type": "code",
   "execution_count": 13,
   "metadata": {},
   "outputs": [],
   "source": [
    "from lnn import Model\n",
    "\n",
    "model = Model()"
   ]
  },
  {
   "cell_type": "markdown",
   "metadata": {},
   "source": [
    "Define our predicates and add them to the model."
   ]
  },
  {
   "cell_type": "code",
   "execution_count": 14,
   "metadata": {},
   "outputs": [],
   "source": [
    "from lnn import Predicate\n",
    "\n",
    "grecian = Predicate(name=\"grecian\")\n",
    "mortal = Predicate(name=\"mortal\")\n",
    "native_of_greece = Predicate(name=\"native_of_greece\")\n",
    "resident_of_greece = Predicate(name=\"resident_of_greece\")\n",
    "\n",
    "model.add_formulae(grecian, mortal, native_of_greece, resident_of_greece)"
   ]
  },
  {
   "cell_type": "markdown",
   "metadata": {},
   "source": [
    "Now we define variable and rest of the formulae than add them to the model."
   ]
  },
  {
   "cell_type": "code",
   "execution_count": 15,
   "metadata": {},
   "outputs": [],
   "source": [
    "from lnn import Variable, Implies, World, ForAll, Or, Bidirectional\n",
    "\n",
    "x = Variable(\"x\")\n",
    "\n",
    "all_grecians_are_native_or_resident = ForAll(\n",
    "    x,\n",
    "    Bidirectional(\n",
    "        Or(native_of_greece(x), resident_of_greece(x), name=\"native_or_resident\"),\n",
    "        grecian(x),\n",
    "        name=\"grecians_are_native_or_resident\",\n",
    "    ),\n",
    "    name=\"all_grecians_are_native_or_resident\",\n",
    "    world=World.AXIOM,\n",
    ")\n",
    "\n",
    "grecians_are_mortals = Implies(grecian(x), mortal(x), name=\"grecians_are_mortals\")\n",
    "\n",
    "model.add_formulae(grecians_are_mortals, all_grecians_are_native_or_resident)\n"
   ]
  },
  {
   "cell_type": "markdown",
   "metadata": {},
   "source": [
    "Add facts provided by domain descripton. Note the difference on rows with `Zeus`. we use `Fact.UNKNOWN` to state that this fact is unknown."
   ]
  },
  {
   "cell_type": "code",
   "execution_count": 16,
   "metadata": {},
   "outputs": [],
   "source": [
    "from lnn import Fact\n",
    "\n",
    "model.add_facts(\n",
    "    {\n",
    "        \"native_of_greece\": {\n",
    "            \"Great Pyramid of Giza\": Fact.FALSE,\n",
    "            \"Confucius\": Fact.FALSE,\n",
    "            \"Zeus\": Fact.UNKNOWN,\n",
    "            \"Socrates\": Fact.TRUE,\n",
    "        },\n",
    "        \"resident_of_greece\": {\n",
    "            \"Great Pyramid of Giza\": Fact.FALSE,\n",
    "            \"Confucius\": Fact.FALSE,\n",
    "            \"Zeus\": Fact.UNKNOWN,\n",
    "            \"Socrates\": Fact.FALSE,\n",
    "        },\n",
    "        \"mortal\": {\n",
    "            \"Great Pyramid of Giza\": Fact.FALSE,\n",
    "            \"Confucius\": Fact.TRUE,\n",
    "            \"Zeus\": Fact.FALSE,\n",
    "            \"Socrates\": Fact.TRUE,\n",
    "        },\n",
    "    }\n",
    ")"
   ]
  },
  {
   "cell_type": "markdown",
   "metadata": {},
   "source": [
    "### Inference inside LNN model\n",
    "\n",
    "Now we run two inference passes, one for upward and one for downward inference."
   ]
  },
  {
   "cell_type": "code",
   "execution_count": 17,
   "metadata": {},
   "outputs": [],
   "source": [
    "from lnn import Direction\n",
    "\n",
    "steps, facts_inferred = model.infer(direction=Direction.UPWARD)\n",
    "steps, facts_inferred = model.infer(direction=Direction.DOWNWARD)"
   ]
  },
  {
   "cell_type": "markdown",
   "metadata": {},
   "source": [
    "Expected result of inference is visible in this table:\n",
    "\n",
    "![grecian_tt](images/grecian_uncertainty_tt_infered.png)\n",
    "\n",
    "These results can be verified in following cell:"
   ]
  },
  {
   "cell_type": "code",
   "execution_count": 18,
   "metadata": {},
   "outputs": [
    {
     "name": "stdout",
     "output_type": "stream",
     "text": [
      "OPEN   Predicate: grecian(x0) \n",
      "'Confucius'                                                FALSE (0.0, 0.0)\n",
      "'Socrates'                                                  TRUE (1.0, 1.0)\n",
      "'Great Pyramid of Giza'                                    FALSE (0.0, 0.0)\n",
      "'Zeus'                                                   UNKNOWN (0.0, 1.0)\n",
      "\n"
     ]
    }
   ],
   "source": [
    "model[\"grecian\"].print()"
   ]
  }
 ],
 "metadata": {
  "interpreter": {
   "hash": "b08e4317ac3dadd66ff2b630a3808f8622704b72a62f43c1750e624fca33bbd2"
  },
  "kernelspec": {
   "display_name": "Python 3.9.10 ('lnn')",
   "language": "python",
   "name": "python3"
  },
  "language_info": {
   "codemirror_mode": {
    "name": "ipython",
    "version": 3
   },
   "file_extension": ".py",
   "mimetype": "text/x-python",
   "name": "python",
   "nbconvert_exporter": "python",
   "pygments_lexer": "ipython3",
   "version": "3.9.12"
  },
  "orig_nbformat": 4
 },
 "nbformat": 4,
 "nbformat_minor": 2
}
