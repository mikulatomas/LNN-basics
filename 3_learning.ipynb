{
 "cells": [
  {
   "cell_type": "code",
   "execution_count": 100,
   "metadata": {},
   "outputs": [],
   "source": [
    "from lnn import Model, Predicate, Variable, Implies, World, Fact\n",
    "\n",
    "# create empty model\n",
    "model = Model()\n",
    "\n",
    "# define predicates\n",
    "grecian = Predicate(name=\"grecian\")\n",
    "human = Predicate(name=\"human\")\n",
    "mortal = Predicate(name=\"mortal\")\n",
    "\n",
    "# add predicates to the model\n",
    "model.add_formulae(grecian, human)\n",
    "\n",
    "# define free variable\n",
    "x = Variable(\"x\")\n",
    "\n",
    "# define our axiom\n",
    "grecians_are_humans = Implies(grecian(x), human(x), name=\"grecians_are_humans\", world=World.AXIOM)\n",
    "human_is_mortal = Implies(human(x), mortal(x), name=\"human_is_mortal\", world=World.AXIOM)\n",
    "\n",
    "# add axiom to the model\n",
    "model.add_formulae(grecians_are_humans, human_is_mortal)"
   ]
  },
  {
   "cell_type": "code",
   "execution_count": 101,
   "metadata": {},
   "outputs": [],
   "source": [
    "model.add_facts(\n",
    "    {\n",
    "        \"grecian\": {\n",
    "            \"Zeus\": Fact.TRUE,\n",
    "            \"Socrates\": Fact.TRUE,\n",
    "            \"Confucius\": Fact.FALSE,\n",
    "            \"Great Pyramid of Giza\": Fact.FALSE,\n",
    "        },\n",
    "        \"human\": {\n",
    "            \"Zeus\": Fact.FALSE,\n",
    "            \"Socrates\": Fact.TRUE,\n",
    "            \"Confucius\": Fact.TRUE,\n",
    "            \"Great Pyramid of Giza\": Fact.FALSE,\n",
    "        },\n",
    "        \"mortal\": {\n",
    "            \"Zeus\": Fact.FALSE,\n",
    "            \"Socrates\": Fact.TRUE,\n",
    "            \"Confucius\": Fact.TRUE,\n",
    "            \"Great Pyramid of Giza\": Fact.FALSE,\n",
    "        }\n",
    "    }\n",
    ")"
   ]
  },
  {
   "cell_type": "code",
   "execution_count": 102,
   "metadata": {},
   "outputs": [],
   "source": [
    "from lnn import Direction\n",
    "\n",
    "total_loss, _ = model.train(direction=Direction.UPWARD, losses=[\"contradiction\", \"logical\"])"
   ]
  },
  {
   "cell_type": "code",
   "execution_count": 103,
   "metadata": {},
   "outputs": [
    {
     "name": "stdout",
     "output_type": "stream",
     "text": [
      "\n",
      "***************************************************************************\n",
      "                                LNN Model\n",
      "\n",
      "AXIOM  Implies: human_is_mortal(x) \n",
      "params  α: 1.0,  β: 1.0,  w: [1. 1.]\n",
      "'Zeus'                                                      TRUE (1.0, 1.0)\n",
      "'Great Pyramid of Giza'                                     TRUE (1.0, 1.0)\n",
      "'Confucius'                                                 TRUE (1.0, 1.0)\n",
      "'Socrates'                                                  TRUE (1.0, 1.0)\n",
      "\n",
      "OPEN   Predicate: mortal(x0) \n",
      "params  α: 1.0\n",
      "'Zeus'                                                     FALSE (0.0, 0.0)\n",
      "'Great Pyramid of Giza'                                    FALSE (0.0, 0.0)\n",
      "'Confucius'                                                 TRUE (1.0, 1.0)\n",
      "'Socrates'                                                  TRUE (1.0, 1.0)\n",
      "\n",
      "AXIOM  Implies: grecians_are_humans(x) \n",
      "params  α: 1.0,  β: 0.5,  w: [1. 1.]\n",
      "'Zeus'                                             CONTRADICTION (1.0, 0.5)\n",
      "'Great Pyramid of Giza'                                     TRUE (1.0, 1.0)\n",
      "'Confucius'                                                 TRUE (1.0, 1.0)\n",
      "'Socrates'                                                  TRUE (1.0, 1.0)\n",
      "\n",
      "OPEN   Predicate: human(x0) \n",
      "params  α: 1.0\n",
      "'Zeus'                                                     FALSE (0.0, 0.0)\n",
      "'Great Pyramid of Giza'                                    FALSE (0.0, 0.0)\n",
      "'Confucius'                                                 TRUE (1.0, 1.0)\n",
      "'Socrates'                                                  TRUE (1.0, 1.0)\n",
      "\n",
      "OPEN   Predicate: grecian(x0) \n",
      "params  α: 1.0\n",
      "'Zeus'                                                      TRUE (1.0, 1.0)\n",
      "'Great Pyramid of Giza'                                    FALSE (0.0, 0.0)\n",
      "'Confucius'                                                FALSE (0.0, 0.0)\n",
      "'Socrates'                                                  TRUE (1.0, 1.0)\n",
      "\n",
      "***************************************************************************\n"
     ]
    }
   ],
   "source": [
    "model.print(params=True)"
   ]
  },
  {
   "cell_type": "code",
   "execution_count": null,
   "metadata": {},
   "outputs": [],
   "source": []
  }
 ],
 "metadata": {
  "interpreter": {
   "hash": "b08e4317ac3dadd66ff2b630a3808f8622704b72a62f43c1750e624fca33bbd2"
  },
  "kernelspec": {
   "display_name": "Python 3.9.10 ('lnn')",
   "language": "python",
   "name": "python3"
  },
  "language_info": {
   "codemirror_mode": {
    "name": "ipython",
    "version": 3
   },
   "file_extension": ".py",
   "mimetype": "text/x-python",
   "name": "python",
   "nbconvert_exporter": "python",
   "pygments_lexer": "ipython3",
   "version": "3.9.10"
  },
  "orig_nbformat": 4
 },
 "nbformat": 4,
 "nbformat_minor": 2
}
