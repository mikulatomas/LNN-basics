{
 "cells": [
  {
   "cell_type": "code",
   "execution_count": 33,
   "metadata": {},
   "outputs": [],
   "source": [
    "from lnn import Model\n",
    "\n",
    "# create empty model\n",
    "model = Model()\n",
    "\n",
    "from lnn import Predicate\n",
    "\n",
    "# define our two predicates (with arity 1 - which is default) and name them accordingly\n",
    "# represents that entity is a grecian\n",
    "grecian = Predicate(name=\"grecian\")\n",
    "# represents that entity is a human\n",
    "mortal = Predicate(name=\"mortal\")\n",
    "alive = Predicate(name=\"alive\")\n",
    "lived = Predicate(name=\"lived\")\n",
    "\n",
    "# add predicates to the model\n",
    "model.add_formulae(grecian, mortal, alive, lived)\n"
   ]
  },
  {
   "cell_type": "code",
   "execution_count": 34,
   "metadata": {},
   "outputs": [],
   "source": [
    "from lnn import Variable, Implies, Exists, World, ForAll, Or, And\n",
    "\n",
    "# free variable is needed for defining our axiom\n",
    "x = Variable(\"x\")\n",
    "\n",
    "# define our axiom\n",
    "some_grecians_and_mortals = Exists(\n",
    "    x,\n",
    "    And(grecian(x), mortal(x), name=\"grecians_and_mortals\"),\n",
    "    name=\"some_grecians_and_mortals\",\n",
    ")\n",
    "\n",
    "all_mortal_alive_or_lived = ForAll(\n",
    "    x,\n",
    "    Implies(mortal(x), And(alive(x), lived(x), name=\"alive_or_lived\"), name=\"mortal_alive_or_lived\"),\n",
    "    name=\"all_mortal_alive_or_lived\",\n",
    ")\n",
    "\n",
    "# add axiom to the model\n",
    "model.add_formulae(some_grecians_and_mortals, all_mortal_alive_or_lived)\n"
   ]
  },
  {
   "cell_type": "code",
   "execution_count": 35,
   "metadata": {},
   "outputs": [],
   "source": [
    "from lnn import Fact\n",
    "\n",
    "# add facts to our model\n",
    "model.add_facts(\n",
    "    {\n",
    "        # note that name \"grecian\" have to match name of the predicate defined before\n",
    "        \"grecian\":\n",
    "        # Fact.TRUE are bounds [1, 1] which represents that Zeus and Socrates are\n",
    "        # grecian in truth value 1.0\n",
    "        # Fact.FALSE are bounds [0, 0] which represents that Confucius and Great Pyramid of Giza are\n",
    "        # grecian in truth value 0.0\n",
    "        {\n",
    "            \"Zeus\": Fact.TRUE,\n",
    "            \"Socrates\": Fact.TRUE,\n",
    "            \"Confucius\": Fact.FALSE,\n",
    "            \"Great Pyramid of Giza\": Fact.FALSE,\n",
    "        },\n",
    "        \"mortal\": {\n",
    "            \"Zeus\": Fact.FALSE,\n",
    "            \"Socrates\": Fact.TRUE,\n",
    "            \"Confucius\": Fact.TRUE,\n",
    "            \"Great Pyramid of Giza\": Fact.FALSE,\n",
    "        },\n",
    "        \"alive\": {\n",
    "            \"Confucius\": Fact.FALSE,\n",
    "            \"Socrates\": Fact.FALSE,\n",
    "        }\n",
    "    }\n",
    ")\n"
   ]
  },
  {
   "cell_type": "code",
   "execution_count": 36,
   "metadata": {},
   "outputs": [
    {
     "data": {
      "text/plain": [
       "(4, tensor(30., grad_fn=<AddBackward0>))"
      ]
     },
     "execution_count": 36,
     "metadata": {},
     "output_type": "execute_result"
    }
   ],
   "source": [
    "from lnn import Direction\n",
    "\n",
    "# perform inference\n",
    "steps, facts_inferred = model.infer()\n",
    "\n",
    "# result of the inference can be checked, inference happened in single step and four facts were inferred\n",
    "steps, facts_inferred"
   ]
  },
  {
   "cell_type": "code",
   "execution_count": 37,
   "metadata": {},
   "outputs": [
    {
     "name": "stdout",
     "output_type": "stream",
     "text": [
      "\n",
      "***************************************************************************\n",
      "                                LNN Model\n",
      "\n",
      "OPEN   ForAll: all_mortal_alive_or_lived (x)               FALSE (0.0, 0.0)\n",
      "\n",
      "OPEN   Implies: mortal_alive_or_lived(x) \n",
      "'Confucius'                                                FALSE (0.0, 0.0)\n",
      "'Zeus'                                             CONTRADICTION (1.0, 0.0)\n",
      "'Socrates'                                                 FALSE (0.0, 0.0)\n",
      "'Great Pyramid of Giza'                            CONTRADICTION (1.0, 0.0)\n",
      "\n",
      "OPEN   And: alive_or_lived(x) \n",
      "'Socrates'                                                 FALSE (0.0, 0.0)\n",
      "'Confucius'                                                FALSE (0.0, 0.0)\n",
      "'Zeus'                                             CONTRADICTION (1.0, 0.0)\n",
      "'Great Pyramid of Giza'                            CONTRADICTION (1.0, 0.0)\n",
      "\n",
      "OPEN   Exists: some_grecians_and_mortals (x)                TRUE (1.0, 1.0)\n",
      "\n",
      "OPEN   And: grecians_and_mortals(x) \n",
      "'Confucius'                                                FALSE (0.0, 0.0)\n",
      "'Zeus'                                             CONTRADICTION (1.0, 0.0)\n",
      "'Socrates'                                                  TRUE (1.0, 1.0)\n",
      "'Great Pyramid of Giza'                                    FALSE (0.0, 0.0)\n",
      "\n",
      "OPEN   Predicate: lived(x0) \n",
      "'Socrates'                                               UNKNOWN (0.0, 1.0)\n",
      "'Confucius'                                              UNKNOWN (0.0, 1.0)\n",
      "'Great Pyramid of Giza'                            CONTRADICTION (1.0, 0.0)\n",
      "'Zeus'                                             CONTRADICTION (1.0, 0.0)\n",
      "\n",
      "OPEN   Predicate: alive(x0) \n",
      "'Socrates'                                                 FALSE (0.0, 0.0)\n",
      "'Confucius'                                                FALSE (0.0, 0.0)\n",
      "'Great Pyramid of Giza'                            CONTRADICTION (1.0, 0.0)\n",
      "'Zeus'                                             CONTRADICTION (1.0, 0.0)\n",
      "\n",
      "OPEN   Predicate: mortal(x0) \n",
      "'Great Pyramid of Giza'                            CONTRADICTION (1.0, 0.0)\n",
      "'Zeus'                                             CONTRADICTION (1.0, 0.0)\n",
      "'Socrates'                                                  TRUE (1.0, 1.0)\n",
      "'Confucius'                                                 TRUE (1.0, 1.0)\n",
      "\n",
      "OPEN   Predicate: grecian(x0) \n",
      "'Great Pyramid of Giza'                                    FALSE (0.0, 0.0)\n",
      "'Zeus'                                             CONTRADICTION (1.0, 0.0)\n",
      "'Socrates'                                                  TRUE (1.0, 1.0)\n",
      "'Confucius'                                                FALSE (0.0, 0.0)\n",
      "\n",
      "***************************************************************************\n"
     ]
    }
   ],
   "source": [
    "model.print()"
   ]
  },
  {
   "cell_type": "code",
   "execution_count": null,
   "metadata": {},
   "outputs": [],
   "source": []
  }
 ],
 "metadata": {
  "interpreter": {
   "hash": "b08e4317ac3dadd66ff2b630a3808f8622704b72a62f43c1750e624fca33bbd2"
  },
  "kernelspec": {
   "display_name": "Python 3.9.10 ('lnn')",
   "language": "python",
   "name": "python3"
  },
  "language_info": {
   "codemirror_mode": {
    "name": "ipython",
    "version": 3
   },
   "file_extension": ".py",
   "mimetype": "text/x-python",
   "name": "python",
   "nbconvert_exporter": "python",
   "pygments_lexer": "ipython3",
   "version": "3.9.10"
  },
  "orig_nbformat": 4
 },
 "nbformat": 4,
 "nbformat_minor": 2
}
