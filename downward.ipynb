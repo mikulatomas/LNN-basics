{
 "cells": [
  {
   "cell_type": "markdown",
   "metadata": {},
   "source": [
    "# Downward inference\n"
   ]
  },
  {
   "cell_type": "markdown",
   "metadata": {},
   "source": [
    "## The basics\n",
    "\n",
    "### Model structure\n",
    "Logical Neural Network correspond to a set of logical formulae which can be represented with formulae's syntax trees.\n",
    "\n",
    "Downward inference principle will be explained on logical equality, so let us start with simple LNN which can be represented with [*logical equality*](https://en.wikipedia.org/wiki/Logical_equality) (also called bidirectional implication, since it can be expressed as two logical implications and logical and). This can be visualised as following syntax tree.\n",
    "\n",
    "![implication_graph](images/equality_graph_plain.png)\n",
    "\n",
    "### Downward inference principle\n",
    "\n",
    "The downward inference is evaluation of the *operand* given the truth of the *operator* and rest of the operands.\n",
    "\n",
    "![implication_graph](images/implication_graph.png)\n",
    "\n",
    "The logical equality is evaluated based on its *truth table* which can be seen below.\n",
    "![equality_tt](images/equality_tt.png)\n",
    "\n",
    "So if we want to do downward inference on $P(x) \\Leftrightarrow Q(x)$ we have to provide truth value of the logical equality operator and one of the operands. Lets say that whole formula is evaluated to $False$ and truth value of predicate $P(x)$ is $True$. Situation is shown on image below.\n",
    "\n",
    "![downward_inference](images/downward_inference.png)\n",
    "\n",
    "Now we can *infer* the truth value of predicate $Q(x)$ based on value of $P(x)$ and value of $P(x) \\Leftrightarrow Q(x)$. Since our operator is logical equality we can easily use truth table above and state that value of $Q(x)$ must be $False$.\n",
    "\n",
    "Note that we have multiple inference rules for different logical connectives. Detail can be read in [original paper](https://arxiv.org/pdf/2006.13155).\n",
    "\n",
    "We can apply downward inference to multiple values of our predicates:\n",
    "\n",
    "![downward_inference](images/predicate_down.png)\n"
   ]
  },
  {
   "cell_type": "markdown",
   "metadata": {},
   "source": [
    "## Grecian domain\n",
    "\n",
    "Now we are ready to move to our specific example and finally create a LNN model. We will continue with our grecian domain.\n",
    "\n",
    "We will extend it by new statement based on [ontology for word \"grecian\"](http://wordnetweb.princeton.edu/perl/webwn?o2=&o0=1&o8=1&o1=1&o7=&o5=&o9=&o6=&o3=&o4=&s=grecian&i=0&h=00#c). Let us modify description of our domain in natural language:\n",
    "\n",
    "* All grecian is a native or resident of Greece.<br>\n",
    "* Grecians are mortal.<br>\n",
    "* Zeus is resident of Greece (is not native of Greece), is not mortal.<br>\n",
    "* Socrates is native of Greece (is not resident of Greece), is mortal.<br>\n",
    "* Confucius is neither native or resident of Greece, is mortal.<br>\n",
    "* Great Pyramid of Giza is neither native or resident of Greece, is not mortal.\n",
    "\n",
    "### First order logic description\n",
    "Now let us translate this domain into First-order logic.\n",
    "\n",
    "#### Predicates\n",
    "Since we extended our example domain we have to verify if we define all needed predicates. In fact we need two new predicates $native\\_of\\_greece(x)$ and $resident\\_of\\_greece(x)$ to capture the relations like \"Zeus is resident of Greece\".\n",
    "\n",
    "Rest of the predicate $grecian(x)$ and $mortal(x)$ stays same.\n",
    "\n",
    "#### Formulae\n",
    "The translation of \"All grecian is a native or resident of Greece\" sentence is little bit more complex, let us take it one by one. We should be able to see two previously defined predicates $native\\_of\\_greece(x)$ and $resident\\_of\\_greece(x)$.\n",
    "\n",
    "Since \"native or resident of Greece\" includes word \"or\" we have to introduce [*logical disjunction*](https://en.wikipedia.org/wiki/Logical_disjunction). Logical disjunction is $False$ when both of the operands are $False$.\n",
    "\n",
    "So we have:\n",
    "\n",
    "$native\\_of\\_greece(x) \\lor resident\\_of\\_greece(x)$\n",
    "\n",
    "We can continue to next part of the natural language sentence \"grecian is a native or resident of Greece\". This part includes our previously defined predicate $grecian(x)$ and word \"is\". The word \"is\" can be translated as logical equality which was previously defined.\n",
    "\n",
    "Let us extend our formula:\n",
    "\n",
    "$grecian(x) \\Leftrightarrow native\\_of\\_greece(x) \\lor resident\\_of\\_greece(x)$\n",
    "\n",
    "The word \"all\" represent so called [*universal quantificator*](https://en.wikipedia.org/wiki/Universal_quantification) $\\forall x$ to state that for all objects $x$, given formula must be evaluated to $True$, otherwise the whole quantified formula will be evaluated to $False$.\n",
    "\n",
    "$(\\forall x) (grecian(x) \\Leftrightarrow native\\_of\\_greece(x) \\lor resident\\_of\\_greece(x))$\n",
    "\n",
    "Moreover we will say that this formula will be an [axiom](https://en.wikipedia.org/wiki/Axiom) which means that it can be taken as true statement in our domain in other words its satisfied by definition on our domain. This part will be crucial for downward inference.\n",
    "\n",
    "#### Objects\n",
    "Our natural language description include same set of objects as in previous example. Let's state it for completeness `{Zeus, Socrates, Confucius, Great Pyramid of Giza}`. Their relations are represented by following table:\n",
    "\n",
    "![grecian_downward_tt](images/grecian_downward_tt_predicates.png)\n",
    "\n",
    "### Our goal\n",
    "Since we do not have truth value for $grecian(x)$ predicate in our domain description, we would like to infer truth values for $grecian(x)$ predicate for each $x$ (object) in our domain.\n",
    "\n",
    "![grecian_downward_tt](images/grecian_downward_tt.png)"
   ]
  },
  {
   "cell_type": "markdown",
   "metadata": {},
   "source": [
    "### Definition of LNN model\n",
    "\n",
    "Now we will define our model in LNN library."
   ]
  },
  {
   "cell_type": "markdown",
   "metadata": {},
   "source": [
    "First we will create an empty model."
   ]
  },
  {
   "cell_type": "code",
   "execution_count": 2,
   "metadata": {},
   "outputs": [],
   "source": [
    "from lnn import Model\n",
    "\n",
    "model = Model()"
   ]
  },
  {
   "cell_type": "markdown",
   "metadata": {},
   "source": [
    "Define our predicates and add them to the model."
   ]
  },
  {
   "cell_type": "code",
   "execution_count": 3,
   "metadata": {},
   "outputs": [],
   "source": [
    "from lnn import Predicate\n",
    "\n",
    "grecian = Predicate(name=\"grecian\")\n",
    "mortal = Predicate(name=\"mortal\")\n",
    "native_of_greece = Predicate(name=\"native_of_greece\")\n",
    "resident_of_greece = Predicate(name=\"resident_of_greece\")\n",
    "\n",
    "model.add_formulae(grecian, mortal, native_of_greece, resident_of_greece)"
   ]
  },
  {
   "cell_type": "markdown",
   "metadata": {},
   "source": [
    "Now we create one variable which will be used in definitions of other predicates. Node that we use parameter `world=World.AXIOM` in `ForAll` formula to state that formula is an axiom."
   ]
  },
  {
   "cell_type": "code",
   "execution_count": 4,
   "metadata": {},
   "outputs": [],
   "source": [
    "from lnn import Variable, Implies, World, ForAll, Or, Bidirectional\n",
    "\n",
    "x = Variable(\"x\")\n",
    "\n",
    "all_grecians_are_native_or_resident = ForAll(\n",
    "    x,\n",
    "    Bidirectional(\n",
    "        Or(native_of_greece(x), resident_of_greece(x), name=\"native_or_resident\"),\n",
    "        grecian(x),\n",
    "        name=\"grecians_are_native_or_resident\",\n",
    "    ),\n",
    "    name=\"all_grecians_are_native_or_resident\",\n",
    "    world=World.AXIOM,\n",
    ")\n",
    "\n",
    "grecians_are_mortals = Implies(grecian(x), mortal(x), name=\"grecians_are_mortals\")\n",
    "\n",
    "model.add_formulae(grecians_are_mortals, all_grecians_are_native_or_resident)\n"
   ]
  },
  {
   "cell_type": "markdown",
   "metadata": {},
   "source": [
    "Add facts provided by domain descripton."
   ]
  },
  {
   "cell_type": "code",
   "execution_count": 5,
   "metadata": {},
   "outputs": [],
   "source": [
    "from lnn import Fact\n",
    "\n",
    "model.add_facts(\n",
    "    {\n",
    "        \"native_of_greece\": {\n",
    "            \"Great Pyramid of Giza\": Fact.FALSE,\n",
    "            \"Confucius\": Fact.FALSE,\n",
    "            \"Zeus\": Fact.FALSE,\n",
    "            \"Socrates\": Fact.TRUE,\n",
    "        },\n",
    "        \"resident_of_greece\": {\n",
    "            \"Great Pyramid of Giza\": Fact.FALSE,\n",
    "            \"Confucius\": Fact.FALSE,\n",
    "            \"Zeus\": Fact.TRUE,\n",
    "            \"Socrates\": Fact.FALSE,\n",
    "        },\n",
    "        \"mortal\": {\n",
    "            \"Great Pyramid of Giza\": Fact.FALSE,\n",
    "            \"Confucius\": Fact.TRUE,\n",
    "            \"Zeus\": Fact.FALSE,\n",
    "            \"Socrates\": Fact.TRUE,\n",
    "        },\n",
    "    }\n",
    ")"
   ]
  },
  {
   "cell_type": "markdown",
   "metadata": {},
   "source": [
    "### Downward inference inside LNN model\n",
    "\n",
    "Since downward inference is evaluation of the operand given the truth of the operator and rest of the operands we first do upward inference to evaluate maximum number of formulae in our model. These result can be later used in downward inference to infer truth value for our facts."
   ]
  },
  {
   "cell_type": "code",
   "execution_count": 6,
   "metadata": {},
   "outputs": [
    {
     "data": {
      "text/plain": [
       "(1, tensor(10., grad_fn=<AddBackward0>))"
      ]
     },
     "execution_count": 6,
     "metadata": {},
     "output_type": "execute_result"
    }
   ],
   "source": [
    "from lnn import Direction\n",
    "\n",
    "model.infer(direction=Direction.UPWARD)"
   ]
  },
  {
   "cell_type": "markdown",
   "metadata": {},
   "source": [
    "Now we can verify that upward inference is not enough to infer facts of our $grecian(x)$ predicate."
   ]
  },
  {
   "cell_type": "code",
   "execution_count": 7,
   "metadata": {},
   "outputs": [
    {
     "name": "stdout",
     "output_type": "stream",
     "text": [
      "OPEN   Predicate: grecian(x0) \n",
      "'Great Pyramid of Giza'                                  UNKNOWN (0.0, 1.0)\n",
      "'Confucius'                                              UNKNOWN (0.0, 1.0)\n",
      "'Zeus'                                                   UNKNOWN (0.0, 1.0)\n",
      "'Socrates'                                               UNKNOWN (0.0, 1.0)\n",
      "\n"
     ]
    }
   ],
   "source": [
    "model[\"grecian\"].print()"
   ]
  },
  {
   "cell_type": "markdown",
   "metadata": {},
   "source": [
    "To infer it, we have to start downward inference which will use truth values of formulae which were calculated in upward inference to infer truth values of our facts and mainly our axiom which is true by definition."
   ]
  },
  {
   "cell_type": "code",
   "execution_count": 8,
   "metadata": {},
   "outputs": [
    {
     "data": {
      "text/plain": [
       "(1, tensor(12., grad_fn=<AddBackward0>))"
      ]
     },
     "execution_count": 8,
     "metadata": {},
     "output_type": "execute_result"
    }
   ],
   "source": [
    "model.infer(direction=Direction.DOWNWARD)"
   ]
  },
  {
   "cell_type": "markdown",
   "metadata": {},
   "source": [
    "And as we can see, model correctly infered truth value for $grecian(x)$ predicate."
   ]
  },
  {
   "cell_type": "code",
   "execution_count": 9,
   "metadata": {},
   "outputs": [
    {
     "name": "stdout",
     "output_type": "stream",
     "text": [
      "OPEN   Predicate: grecian(x0) \n",
      "'Great Pyramid of Giza'                                    FALSE (0.0, 0.0)\n",
      "'Confucius'                                                FALSE (0.0, 0.0)\n",
      "'Zeus'                                                      TRUE (1.0, 1.0)\n",
      "'Socrates'                                                  TRUE (1.0, 1.0)\n",
      "\n"
     ]
    }
   ],
   "source": [
    "model[\"grecian\"].print()"
   ]
  },
  {
   "cell_type": "markdown",
   "metadata": {},
   "source": [
    "How was that possible? Remember the example from the beginning. We already know the truth value for formula with logical disjuntion (or):"
   ]
  },
  {
   "cell_type": "code",
   "execution_count": 10,
   "metadata": {},
   "outputs": [
    {
     "name": "stdout",
     "output_type": "stream",
     "text": [
      "OPEN   Or: native_or_resident(x) \n",
      "'Great Pyramid of Giza'                                    FALSE (0.0, 0.0)\n",
      "'Confucius'                                                FALSE (0.0, 0.0)\n",
      "'Zeus'                                                      TRUE (1.0, 1.0)\n",
      "'Socrates'                                                  TRUE (1.0, 1.0)\n",
      "\n"
     ]
    }
   ],
   "source": [
    "model[\"native_or_resident\"].print()"
   ]
  },
  {
   "cell_type": "markdown",
   "metadata": {},
   "source": [
    "Since we know that $(\\forall x) (native\\_of\\_greece(x) \\lor resident\\_of\\_greece(x)) \\Leftrightarrow grecian(x)$ is an axiom (so we know the truth value for each $x$) and truth values of first operand $(native\\_of\\_greece(x) \\lor resident\\_of\\_greece(x))$ are infered by upward inference, we can then infer the truth value of $grecian(x)$ as we did in the beginning."
   ]
  }
 ],
 "metadata": {
  "interpreter": {
   "hash": "b08e4317ac3dadd66ff2b630a3808f8622704b72a62f43c1750e624fca33bbd2"
  },
  "kernelspec": {
   "display_name": "Python 3.9.10 ('lnn')",
   "language": "python",
   "name": "python3"
  },
  "language_info": {
   "codemirror_mode": {
    "name": "ipython",
    "version": 3
   },
   "file_extension": ".py",
   "mimetype": "text/x-python",
   "name": "python",
   "nbconvert_exporter": "python",
   "pygments_lexer": "ipython3",
   "version": "3.9.12"
  },
  "orig_nbformat": 4
 },
 "nbformat": 4,
 "nbformat_minor": 2
}
