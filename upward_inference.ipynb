{
 "cells": [
  {
   "cell_type": "markdown",
   "metadata": {},
   "source": [
    "# Upward inference\n",
    "In this jupyter notebook we will show simple example upward inference in [Logical Neural Networks](https://github.com/IBM/LNN) (LNN).\n",
    "\n",
    "TEST TEST"
   ]
  },
  {
   "cell_type": "markdown",
   "metadata": {},
   "source": [
    "![implication-tt](images/implication_tt.png)\n",
    "![upward-inference](images/upward_inference.png)"
   ]
  },
  {
   "cell_type": "markdown",
   "metadata": {},
   "source": [
    "## Model definition\n",
    "\n",
    "Before we introduce upward inference we will define our model, [predicates](https://en.wikipedia.org/wiki/Predicate_%28mathematical_logic%29) and [axioms](https://en.wikipedia.org/wiki/Axiom) which will be later used for infering.\n",
    "\n",
    "We will try to model simple example. Lets define it in natural language:\n",
    "\n",
    "> Some *grecians* are *humans*. *Zeus* is grecian and it is not a human. *Socrates* is grecian and it is a human. *Confucius* is not grecian and it is a human. *Great Pyramid of Giza* is not grecian and it is not a human.\n",
    "\n",
    "This is called *background knowledge*. We can express the first sentence as [First-order logic](https://en.wikipedia.org/wiki/First-order_logic) [axiom]((https://en.wikipedia.org/wiki/Axiom)):\n",
    "\n",
    "> $(\\exists x)(grecian(x) \\implies human(x))$\n",
    "\n",
    "Now express this knowledge in LNN model."
   ]
  },
  {
   "cell_type": "code",
   "execution_count": 46,
   "metadata": {},
   "outputs": [],
   "source": [
    "from lnn import Model\n",
    "\n",
    "# create empty model\n",
    "model = Model()"
   ]
  },
  {
   "cell_type": "markdown",
   "metadata": {},
   "source": [
    "Define predicates, for our example two predicates will be needed $grecian(x)$ and $human(x)$."
   ]
  },
  {
   "cell_type": "code",
   "execution_count": 47,
   "metadata": {},
   "outputs": [],
   "source": [
    "from lnn import Predicate\n",
    "\n",
    "# define our two predicates (with arity 1 - which is default) and name them accordingly\n",
    "# represents that entity is a grecian\n",
    "grecian = Predicate(name=\"grecian\")\n",
    "# represents that entity is a human\n",
    "mortal = Predicate(name=\"mortal\")\n",
    "\n",
    "# add predicates to the model\n",
    "model.add_formulae(grecian, mortal)"
   ]
  },
  {
   "cell_type": "markdown",
   "metadata": {},
   "source": [
    "Define and insert our axiom to the model."
   ]
  },
  {
   "cell_type": "code",
   "execution_count": 48,
   "metadata": {},
   "outputs": [],
   "source": [
    "from lnn import Variable, Implies, Exists, World, ForAll\n",
    "\n",
    "# free variable is needed for defining our axiom\n",
    "x = Variable(\"x\")\n",
    "\n",
    "# define our axiom\n",
    "grecians_are_mortals = Implies(grecian(x), mortal(x), name=\"grecians_are_mortals\")\n",
    "\n",
    "# add axiom to the model\n",
    "model.add_formulae(grecians_are_mortals)\n"
   ]
  },
  {
   "cell_type": "markdown",
   "metadata": {},
   "source": [
    "Now, we can check if our model contains all required predicates and axioms. Since model can be expressed as graph which represents syntax tree of our formula we can simply plot it and verify the graph edges."
   ]
  },
  {
   "cell_type": "code",
   "execution_count": 49,
   "metadata": {},
   "outputs": [
    {
     "data": {
      "image/png": "[encoded data removed]",
      "text/plain": [
       "<Figure size 432x288 with 1 Axes>"
      ]
     },
     "metadata": {},
     "output_type": "display_data"
    }
   ],
   "source": [
    "from lnn.utils import plot_graph\n",
    "\n",
    "plot_graph(model)"
   ]
  },
  {
   "cell_type": "markdown",
   "metadata": {},
   "source": [
    "Model can be also simply printed.\n",
    "\n",
    "Do not be confused with variable `x0` it was created automatically for us. The variable `x` was created by us before."
   ]
  },
  {
   "cell_type": "code",
   "execution_count": 50,
   "metadata": {},
   "outputs": [
    {
     "name": "stdout",
     "output_type": "stream",
     "text": [
      "\n",
      "***************************************************************************\n",
      "                                LNN Model\n",
      "\n",
      "OPEN   ForAll: all_grecians_are_humans (x)               UNKNOWN (0.0, 1.0)\n",
      "\n",
      "OPEN   Implies: grecians_are_mortals(x) \n",
      "\n",
      "OPEN   Predicate: mortal(x0) \n",
      "\n",
      "OPEN   Predicate: grecian(x0) \n",
      "\n",
      "***************************************************************************\n"
     ]
    }
   ],
   "source": [
    "model.print()"
   ]
  },
  {
   "cell_type": "markdown",
   "metadata": {},
   "source": [
    "## Adding facts\n",
    "\n",
    "Before inference itself, since we will do so called *grounded inference*, we add so called *facts* which will be used in the upward inference.\n",
    "\n",
    "Remember that we mentioned multiple entities in our example. We can add them as a facts to the predicates."
   ]
  },
  {
   "cell_type": "code",
   "execution_count": 51,
   "metadata": {},
   "outputs": [],
   "source": [
    "from lnn import Fact\n",
    "\n",
    "# add facts to our model\n",
    "model.add_facts(\n",
    "    {\n",
    "        # note that name \"grecian\" have to match name of the predicate defined before\n",
    "        \"grecian\":\n",
    "        # Fact.TRUE are bounds [1, 1] which represents that Zeus and Socrates are\n",
    "        # grecian in truth value 1.0\n",
    "        # Fact.FALSE are bounds [0, 0] which represents that Confucius and Great Pyramid of Giza are\n",
    "        # grecian in truth value 0.0\n",
    "        {\n",
    "            \"Zeus\": Fact.TRUE,\n",
    "            \"Socrates\": Fact.TRUE,\n",
    "            \"Confucius\": Fact.FALSE,\n",
    "            \"Great Pyramid of Giza\": Fact.FALSE,\n",
    "        },\n",
    "        \"mortal\": {\n",
    "            \"Zeus\": Fact.FALSE,\n",
    "            \"Socrates\": Fact.TRUE,\n",
    "            \"Confucius\": Fact.TRUE,\n",
    "            \"Great Pyramid of Giza\": Fact.FALSE,\n",
    "        },\n",
    "    }\n",
    ")\n"
   ]
  },
  {
   "cell_type": "code",
   "execution_count": 52,
   "metadata": {},
   "outputs": [
    {
     "name": "stdout",
     "output_type": "stream",
     "text": [
      "\n",
      "***************************************************************************\n",
      "                                LNN Model\n",
      "\n",
      "OPEN   ForAll: all_grecians_are_humans (x)               UNKNOWN (0.0, 1.0)\n",
      "\n",
      "OPEN   Implies: grecians_are_mortals(x) \n",
      "\n",
      "OPEN   Predicate: mortal(x0) \n",
      "'Great Pyramid of Giza'                                    FALSE (0.0, 0.0)\n",
      "'Confucius'                                                 TRUE (1.0, 1.0)\n",
      "'Socrates'                                                  TRUE (1.0, 1.0)\n",
      "'Zeus'                                                     FALSE (0.0, 0.0)\n",
      "\n",
      "OPEN   Predicate: grecian(x0) \n",
      "'Great Pyramid of Giza'                                    FALSE (0.0, 0.0)\n",
      "'Confucius'                                                FALSE (0.0, 0.0)\n",
      "'Socrates'                                                  TRUE (1.0, 1.0)\n",
      "'Zeus'                                                      TRUE (1.0, 1.0)\n",
      "\n",
      "***************************************************************************\n"
     ]
    }
   ],
   "source": [
    "# note truth bounds on the right side of the table\n",
    "model.print()"
   ]
  },
  {
   "cell_type": "markdown",
   "metadata": {},
   "source": [
    "## Inference\n",
    "Now we have everything ready for so called *upward inference*. The \"upward\" in the name comes from the direction in which inference go through syntax tree of the formula.\n",
    "\n",
    "In our case, we will start from atoms (two predicates in our case) and compute truth bounds for each subformula (implication in our case).\n",
    "\n",
    "Now we will show that upward inference can be used to perform basic logical computations."
   ]
  },
  {
   "cell_type": "code",
   "execution_count": 53,
   "metadata": {},
   "outputs": [
    {
     "data": {
      "text/plain": [
       "(1, tensor(5., grad_fn=<AddBackward0>))"
      ]
     },
     "execution_count": 53,
     "metadata": {},
     "output_type": "execute_result"
    }
   ],
   "source": [
    "from lnn import Direction\n",
    "\n",
    "# perform inference\n",
    "steps, facts_inferred = model.infer(direction=Direction.UPWARD)\n",
    "\n",
    "# result of the inference can be checked, inference happened in single step and four facts were inferred\n",
    "steps, facts_inferred"
   ]
  },
  {
   "cell_type": "markdown",
   "metadata": {},
   "source": [
    "Recall that truth table of classical [logical implication](https://en.wikipedia.org/wiki/Truth_table#Logical_implication) is as follows:\n",
    "\n",
    "| $P$     | $Q$     | $P \\implies Q$ |\n",
    "|---------|---------|:--------------:|\n",
    "| *False* | *False* |     *True*     |\n",
    "| *False* | *True*  |     *True*     |\n",
    "| *True*  | *False* |     *False*    |\n",
    "| *True*  | *True*  |     *True*     |\n",
    "\n",
    "In our specific case we expect following result:\n",
    "\n",
    "| $grecian(x)$                    | $human(x)$                      | $grecians\\_are\\_humans(x)$ |\n",
    "|---------------------------------|---------------------------------|:--------------------------:|\n",
    "| Great Pyramid of Giza (*False*) | Great Pyramid of Giza (*False*) |           *True*           |\n",
    "| Confucius (*False*)             | Confucius (*True*)              |           *False*          |\n",
    "| Zeus (*True*)                   | Zeus (*False*)                  |           *True*           |\n",
    "| Socrates (*True*)               | Socrates (*True*)               |           *True*           |"
   ]
  },
  {
   "cell_type": "markdown",
   "metadata": {},
   "source": [
    "When we print the model, we can verify the result, note the trut bounds on the right under `OPEN   Implies: grecians_are_humans(x)`:"
   ]
  },
  {
   "cell_type": "code",
   "execution_count": 54,
   "metadata": {},
   "outputs": [
    {
     "name": "stdout",
     "output_type": "stream",
     "text": [
      "\n",
      "***************************************************************************\n",
      "                                LNN Model\n",
      "\n",
      "OPEN   ForAll: all_grecians_are_humans (x)                 FALSE (0.0, 0.0)\n",
      "\n",
      "OPEN   Implies: grecians_are_mortals(x) \n",
      "'Great Pyramid of Giza'                                     TRUE (1.0, 1.0)\n",
      "'Socrates'                                                  TRUE (1.0, 1.0)\n",
      "'Zeus'                                                     FALSE (0.0, 0.0)\n",
      "'Confucius'                                                 TRUE (1.0, 1.0)\n",
      "\n",
      "OPEN   Predicate: mortal(x0) \n",
      "'Great Pyramid of Giza'                                    FALSE (0.0, 0.0)\n",
      "'Confucius'                                                 TRUE (1.0, 1.0)\n",
      "'Socrates'                                                  TRUE (1.0, 1.0)\n",
      "'Zeus'                                                     FALSE (0.0, 0.0)\n",
      "\n",
      "OPEN   Predicate: grecian(x0) \n",
      "'Great Pyramid of Giza'                                    FALSE (0.0, 0.0)\n",
      "'Confucius'                                                FALSE (0.0, 0.0)\n",
      "'Socrates'                                                  TRUE (1.0, 1.0)\n",
      "'Zeus'                                                      TRUE (1.0, 1.0)\n",
      "\n",
      "***************************************************************************\n"
     ]
    }
   ],
   "source": [
    "model.print()"
   ]
  }
 ],
 "metadata": {
  "interpreter": {
   "hash": "b08e4317ac3dadd66ff2b630a3808f8622704b72a62f43c1750e624fca33bbd2"
  },
  "kernelspec": {
   "display_name": "Python 3.9.10 ('lnn')",
   "language": "python",
   "name": "python3"
  },
  "language_info": {
   "codemirror_mode": {
    "name": "ipython",
    "version": 3
   },
   "file_extension": ".py",
   "mimetype": "text/x-python",
   "name": "python",
   "nbconvert_exporter": "python",
   "pygments_lexer": "ipython3",
   "version": "3.9.10"
  },
  "orig_nbformat": 4
 },
 "nbformat": 4,
 "nbformat_minor": 2
}
