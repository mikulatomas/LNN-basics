{
 "cells": [
  {
   "cell_type": "markdown",
   "metadata": {},
   "source": [
    "# Downward inference\n",
    "In this jupyter notebook we will show simple example downward inference in [Logical Neural Networks](https://github.com/IBM/LNN) (LNN).\n"
   ]
  },
  {
   "cell_type": "markdown",
   "metadata": {},
   "source": [
    "## Model definition\n",
    "\n",
    "For purpose of showing downward inference we extend the example from first notebook."
   ]
  },
  {
   "cell_type": "markdown",
   "metadata": {},
   "source": [
    "First part will be same:"
   ]
  },
  {
   "cell_type": "code",
   "execution_count": 2,
   "metadata": {},
   "outputs": [],
   "source": [
    "from lnn import Model, Predicate, Variable, Implies, Exists, World, Fact, ForAll, Or\n",
    "\n",
    "# create empty model\n",
    "model = Model()\n",
    "\n",
    "# define predicates\n",
    "grecian = Predicate(name=\"grecian\")\n",
    "mortal = Predicate(name=\"mortal\")\n",
    "native_of_greece = Predicate(name=\"native_of_greece\")\n",
    "resident_of_greece = Predicate(name=\"resident_of_greece\")\n",
    "\n",
    "# add predicates to the model\n",
    "model.add_formulae(grecian, mortal, native_of_greece, resident_of_greece)\n",
    "\n",
    "# define free variable\n",
    "x = Variable(\"x\")\n",
    "\n",
    "# define our axiom\n",
    "all_grecians_are_native_or_resident = ForAll(\n",
    "    x,\n",
    "    Implies(\n",
    "        grecian(x),\n",
    "        Or(native_of_greece(x), resident_of_greece(x)),\n",
    "        name=\"grecians_are_native_or_resident\",\n",
    "    ),\n",
    "    name=\"all_grecians_are_native_or_resident\",\n",
    "    world=World.AXIOM,\n",
    ")\n",
    "\n",
    "grecians_are_mortals = Implies(grecian(x), mortal(x), name=\"grecians_are_mortals\")\n",
    "\n",
    "# add axiom to the model\n",
    "model.add_formulae(grecians_are_mortals, all_grecians_are_native_or_resident)\n",
    "\n",
    "# add facts to our model\n",
    "from lnn import Fact\n",
    "\n",
    "# add facts to our model\n",
    "model.add_facts(\n",
    "    {\n",
    "        \"grecian\": {\n",
    "            \"Zeus\": Fact.TRUE,\n",
    "            \"Socrates\": Fact.TRUE,\n",
    "            \"Confucius\": Fact.FALSE,\n",
    "            \"Great Pyramid of Giza\": Fact.FALSE,\n",
    "        },\n",
    "        \"mortal\": {\n",
    "            \"Zeus\": Fact.FALSE,\n",
    "            \"Socrates\": Fact.TRUE,\n",
    "            \"Confucius\": Fact.TRUE,\n",
    "            \"Great Pyramid of Giza\": Fact.FALSE,\n",
    "        },\n",
    "        \"native_of_greece\": {\n",
    "            \"Zeus\": Fact.FALSE,\n",
    "            \"Socrates\": Fact.TRUE,\n",
    "            \"Confucius\": Fact.FALSE,\n",
    "            \"Great Pyramid of Giza\": Fact.FALSE,\n",
    "        },\n",
    "        \"resident_of_greece\": {\n",
    "            \"Zeus\": Fact.TRUE,\n",
    "            \"Socrates\": Fact.FALSE,\n",
    "            \"Confucius\": Fact.FALSE,\n",
    "            \"Great Pyramid of Giza\": Fact.FALSE,\n",
    "        },\n",
    "    }\n",
    ")\n"
   ]
  },
  {
   "cell_type": "markdown",
   "metadata": {},
   "source": [
    "We will extend our example by one new axiom and predicate.\n",
    "\n",
    "> All *humans* are *mortal*.\n",
    "\n",
    "We can express it as [First-order logic](https://en.wikipedia.org/wiki/First-order_logic) in similar fashion as before.\n",
    "\n",
    "> $(\\forall x)(human(x) \\implies mortal(x))$\n",
    "\n",
    "Now express this knowledge in LNN model."
   ]
  },
  {
   "cell_type": "code",
   "execution_count": 3,
   "metadata": {},
   "outputs": [],
   "source": [
    "# from lnn import ForAll\n",
    "\n",
    "# # define mortal predicate\n",
    "# mortal = Predicate(name=\"mortal\")\n",
    "\n",
    "# # define new axiom that all humans are mortal\n",
    "# all_humans_are_mortal = ForAll(\n",
    "#     x,\n",
    "#     Implies(human(x), mortal(x), name=\"human_is_mortal\"),\n",
    "#     name=\"all_humans_are_mortal\",\n",
    "#     world=World.AXIOM\n",
    "# )\n",
    "\n",
    "# # add new predicate and axiom to the model\n",
    "# model.add_formulae(mortal, all_humans_are_mortal)"
   ]
  },
  {
   "cell_type": "markdown",
   "metadata": {},
   "source": [
    "Verify the graph structure."
   ]
  },
  {
   "cell_type": "code",
   "execution_count": 4,
   "metadata": {},
   "outputs": [
    {
     "data": {
      "image/png": "[encoded data removed]",
      "text/plain": [
       "<Figure size 432x288 with 1 Axes>"
      ]
     },
     "metadata": {},
     "output_type": "display_data"
    }
   ],
   "source": [
    "from lnn.utils import plot_graph\n",
    "\n",
    "plot_graph(model)"
   ]
  },
  {
   "cell_type": "markdown",
   "metadata": {},
   "source": [
    "And print the model."
   ]
  },
  {
   "cell_type": "code",
   "execution_count": 5,
   "metadata": {},
   "outputs": [
    {
     "name": "stdout",
     "output_type": "stream",
     "text": [
      "\n",
      "***************************************************************************\n",
      "                                LNN Model\n",
      "\n",
      "AXIOM  ForAll: all_grecians_are_native_or_resident (x)          TRUE (1.0, 1.0)\n",
      "\n",
      "OPEN   Implies: grecians_are_native_or_resident(x) \n",
      "\n",
      "OPEN   Or: Or_0(x) \n",
      "\n",
      "OPEN   Implies: grecians_are_mortals(x) \n",
      "\n",
      "OPEN   Predicate: resident_of_greece(x0) \n",
      "\n",
      "OPEN   Predicate: native_of_greece(x0) \n",
      "\n",
      "OPEN   Predicate: mortal(x0) \n",
      "'Great Pyramid of Giza'                                    FALSE (0.0, 0.0)\n",
      "'Confucius'                                                 TRUE (1.0, 1.0)\n",
      "'Socrates'                                                  TRUE (1.0, 1.0)\n",
      "'Zeus'                                                     FALSE (0.0, 0.0)\n",
      "\n",
      "OPEN   Predicate: grecian(x0) \n",
      "'Great Pyramid of Giza'                                    FALSE (0.0, 0.0)\n",
      "'Confucius'                                                FALSE (0.0, 0.0)\n",
      "'Socrates'                                                  TRUE (1.0, 1.0)\n",
      "'Zeus'                                                      TRUE (1.0, 1.0)\n",
      "\n",
      "***************************************************************************\n"
     ]
    }
   ],
   "source": [
    "model.print()"
   ]
  },
  {
   "cell_type": "markdown",
   "metadata": {},
   "source": [
    "## Inference\n",
    "\n",
    "Now, we can examine *downward inference* in detail.\n",
    "\n",
    "So called downward inference starts in the root node (formula) of syntax tree and yields outputs for each sub-formula, given the truth of the formula. During this process truth bounds are tightened for each sub-formulae and ultimately for our facts."
   ]
  },
  {
   "cell_type": "code",
   "execution_count": 6,
   "metadata": {},
   "outputs": [
    {
     "data": {
      "text/plain": [
       "(1, tensor(0.))"
      ]
     },
     "execution_count": 6,
     "metadata": {},
     "output_type": "execute_result"
    }
   ],
   "source": [
    "from lnn import Direction\n",
    "\n",
    "# perform inference\n",
    "steps, facts_inferred = model.infer(direction=Direction.DOWNWARD)\n",
    "\n",
    "# result of the inference can be checked, inference happened in single step and zero facts were inferred\n",
    "steps, facts_inferred"
   ]
  },
  {
   "cell_type": "markdown",
   "metadata": {},
   "source": [
    "Examine the printed model and corresponding truth values. We infered zero new facts (truth values are `UNKNOWN`) because we did not calculate truth values of axioms from given facts (upward inference) first."
   ]
  },
  {
   "cell_type": "code",
   "execution_count": 7,
   "metadata": {},
   "outputs": [
    {
     "name": "stdout",
     "output_type": "stream",
     "text": [
      "\n",
      "***************************************************************************\n",
      "                                LNN Model\n",
      "\n",
      "AXIOM  ForAll: all_grecians_are_native_or_resident (x)          TRUE (1.0, 1.0)\n",
      "\n",
      "OPEN   Implies: grecians_are_native_or_resident(x) \n",
      "'Confucius'                                              UNKNOWN (0.0, 1.0)\n",
      "'Zeus'                                                   UNKNOWN (0.0, 1.0)\n",
      "'Socrates'                                               UNKNOWN (0.0, 1.0)\n",
      "'Great Pyramid of Giza'                                  UNKNOWN (0.0, 1.0)\n",
      "\n",
      "OPEN   Or: Or_0(x) \n",
      "'Confucius'                                              UNKNOWN (0.0, 1.0)\n",
      "'Zeus'                                                   UNKNOWN (0.0, 1.0)\n",
      "'Socrates'                                               UNKNOWN (0.0, 1.0)\n",
      "'Great Pyramid of Giza'                                  UNKNOWN (0.0, 1.0)\n",
      "\n",
      "OPEN   Implies: grecians_are_mortals(x) \n",
      "'Confucius'                                              UNKNOWN (0.0, 1.0)\n",
      "'Zeus'                                                   UNKNOWN (0.0, 1.0)\n",
      "'Socrates'                                               UNKNOWN (0.0, 1.0)\n",
      "'Great Pyramid of Giza'                                  UNKNOWN (0.0, 1.0)\n",
      "\n",
      "OPEN   Predicate: resident_of_greece(x0) \n",
      "'Great Pyramid of Giza'                                  UNKNOWN (0.0, 1.0)\n",
      "'Confucius'                                              UNKNOWN (0.0, 1.0)\n",
      "'Socrates'                                               UNKNOWN (0.0, 1.0)\n",
      "'Zeus'                                                   UNKNOWN (0.0, 1.0)\n",
      "\n",
      "OPEN   Predicate: native_of_greece(x0) \n",
      "'Great Pyramid of Giza'                                  UNKNOWN (0.0, 1.0)\n",
      "'Confucius'                                              UNKNOWN (0.0, 1.0)\n",
      "'Socrates'                                               UNKNOWN (0.0, 1.0)\n",
      "'Zeus'                                                   UNKNOWN (0.0, 1.0)\n",
      "\n",
      "OPEN   Predicate: mortal(x0) \n",
      "'Great Pyramid of Giza'                                    FALSE (0.0, 0.0)\n",
      "'Confucius'                                                 TRUE (1.0, 1.0)\n",
      "'Socrates'                                                  TRUE (1.0, 1.0)\n",
      "'Zeus'                                                     FALSE (0.0, 0.0)\n",
      "\n",
      "OPEN   Predicate: grecian(x0) \n",
      "'Great Pyramid of Giza'                                    FALSE (0.0, 0.0)\n",
      "'Confucius'                                                FALSE (0.0, 0.0)\n",
      "'Socrates'                                                  TRUE (1.0, 1.0)\n",
      "'Zeus'                                                      TRUE (1.0, 1.0)\n",
      "\n",
      "***************************************************************************\n"
     ]
    }
   ],
   "source": [
    "model.print()"
   ]
  },
  {
   "cell_type": "markdown",
   "metadata": {},
   "source": [
    "So let us do upward inference first."
   ]
  },
  {
   "cell_type": "code",
   "execution_count": 8,
   "metadata": {},
   "outputs": [
    {
     "data": {
      "text/plain": [
       "(1, tensor(6., grad_fn=<AddBackward0>))"
      ]
     },
     "execution_count": 8,
     "metadata": {},
     "output_type": "execute_result"
    }
   ],
   "source": [
    "# perform inference\n",
    "steps, facts_inferred = model.infer(direction=Direction.UPWARD)\n",
    "\n",
    "# result of the inference can be checked, inference happened in single step and six facts were inferred\n",
    "steps, facts_inferred"
   ]
  },
  {
   "cell_type": "markdown",
   "metadata": {},
   "source": [
    "Now we will repeat downward inference once more and check the results again."
   ]
  },
  {
   "cell_type": "code",
   "execution_count": 9,
   "metadata": {},
   "outputs": [
    {
     "data": {
      "text/plain": [
       "(1, tensor(4., grad_fn=<AddBackward0>))"
      ]
     },
     "execution_count": 9,
     "metadata": {},
     "output_type": "execute_result"
    }
   ],
   "source": [
    "# perform inference\n",
    "steps, facts_inferred = model.infer(direction=Direction.DOWNWARD)\n",
    "\n",
    "# result of the inference can be checked, inference happened in single step and four facts were inferred\n",
    "steps, facts_inferred"
   ]
  },
  {
   "cell_type": "markdown",
   "metadata": {},
   "source": [
    "We can see that during downward inference truth values for $human\\_is\\_mortal(x)$ and $mortal(x0)$ were infered.\n",
    "\n",
    "The truth values for $mortal(x)$ were infered from truth values of predicate $human(x)$ and axiom $human\\_is\\_mortal(x)$ (we know that this implication holds for each human).\n",
    "\n",
    "Note that it does not matter that `Zeus` and `Great Pyramid of Giza` are not humans. The truth table of an implication still holds (see truth table below).\n",
    "\n",
    "| $P$     | $Q$     | $P \\implies Q$ |\n",
    "|---------|---------|:--------------:|\n",
    "| *False* | *False* |     *True*     |\n",
    "| *False* | *True*  |     *True*     |\n",
    "| *True*  | *False* |     *False*    |\n",
    "| *True*  | *True*  |     *True*     |\n",
    "\n",
    "This inference is possible with set of *inference rules*. Details can be examined in the original [paper](https://arxiv.org/abs/2006.13155)."
   ]
  },
  {
   "cell_type": "code",
   "execution_count": 10,
   "metadata": {},
   "outputs": [
    {
     "name": "stdout",
     "output_type": "stream",
     "text": [
      "\n",
      "***************************************************************************\n",
      "                                LNN Model\n",
      "\n",
      "AXIOM  ForAll: all_grecians_are_native_or_resident (x)          TRUE (1.0, 1.0)\n",
      "\n",
      "OPEN   Implies: grecians_are_native_or_resident(x) \n",
      "'Confucius'                                                 TRUE (1.0, 1.0)\n",
      "'Zeus'                                                      TRUE (1.0, 1.0)\n",
      "'Socrates'                                                  TRUE (1.0, 1.0)\n",
      "'Great Pyramid of Giza'                                     TRUE (1.0, 1.0)\n",
      "\n",
      "OPEN   Or: Or_0(x) \n",
      "'Confucius'                                              UNKNOWN (0.0, 1.0)\n",
      "'Zeus'                                                      TRUE (1.0, 1.0)\n",
      "'Socrates'                                                  TRUE (1.0, 1.0)\n",
      "'Great Pyramid of Giza'                                  UNKNOWN (0.0, 1.0)\n",
      "\n",
      "OPEN   Implies: grecians_are_mortals(x) \n",
      "'Confucius'                                                 TRUE (1.0, 1.0)\n",
      "'Zeus'                                                     FALSE (0.0, 0.0)\n",
      "'Socrates'                                                  TRUE (1.0, 1.0)\n",
      "'Great Pyramid of Giza'                                     TRUE (1.0, 1.0)\n",
      "\n",
      "OPEN   Predicate: resident_of_greece(x0) \n",
      "'Great Pyramid of Giza'                                  UNKNOWN (0.0, 1.0)\n",
      "'Confucius'                                              UNKNOWN (0.0, 1.0)\n",
      "'Socrates'                                               UNKNOWN (0.0, 1.0)\n",
      "'Zeus'                                                   UNKNOWN (0.0, 1.0)\n",
      "\n",
      "OPEN   Predicate: native_of_greece(x0) \n",
      "'Great Pyramid of Giza'                                  UNKNOWN (0.0, 1.0)\n",
      "'Confucius'                                              UNKNOWN (0.0, 1.0)\n",
      "'Socrates'                                               UNKNOWN (0.0, 1.0)\n",
      "'Zeus'                                                   UNKNOWN (0.0, 1.0)\n",
      "\n",
      "OPEN   Predicate: mortal(x0) \n",
      "'Great Pyramid of Giza'                                    FALSE (0.0, 0.0)\n",
      "'Confucius'                                                 TRUE (1.0, 1.0)\n",
      "'Socrates'                                                  TRUE (1.0, 1.0)\n",
      "'Zeus'                                                     FALSE (0.0, 0.0)\n",
      "\n",
      "OPEN   Predicate: grecian(x0) \n",
      "'Great Pyramid of Giza'                                    FALSE (0.0, 0.0)\n",
      "'Confucius'                                                FALSE (0.0, 0.0)\n",
      "'Socrates'                                                  TRUE (1.0, 1.0)\n",
      "'Zeus'                                                      TRUE (1.0, 1.0)\n",
      "\n",
      "***************************************************************************\n"
     ]
    }
   ],
   "source": [
    "model.print()"
   ]
  }
 ],
 "metadata": {
  "interpreter": {
   "hash": "b08e4317ac3dadd66ff2b630a3808f8622704b72a62f43c1750e624fca33bbd2"
  },
  "kernelspec": {
   "display_name": "Python 3.9.10 ('lnn')",
   "language": "python",
   "name": "python3"
  },
  "language_info": {
   "codemirror_mode": {
    "name": "ipython",
    "version": 3
   },
   "file_extension": ".py",
   "mimetype": "text/x-python",
   "name": "python",
   "nbconvert_exporter": "python",
   "pygments_lexer": "ipython3",
   "version": "3.9.10"
  },
  "orig_nbformat": 4
 },
 "nbformat": 4,
 "nbformat_minor": 2
}
