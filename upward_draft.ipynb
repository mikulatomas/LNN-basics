{
 "cells": [
  {
   "cell_type": "markdown",
   "metadata": {},
   "source": [
    "# Upward inference\n",
    "In this jupyter notebook we will show simple example upward inference in [Logical Neural Networks](https://github.com/IBM/LNN) (LNN)."
   ]
  },
  {
   "cell_type": "markdown",
   "metadata": {},
   "source": [
    "## The basics\n",
    "Before we start with upward inference example in LNN we will describe the idea behind it. In simple case of one [*logical formula*](https://en.wikipedia.org/wiki/First-order_logic#Formulas) with [*logical implication*](https://en.wikipedia.org/wiki/Truth_table#Logical_implication) the upward inference is evaluation of the *operator* given all the *operands*.\n",
    "\n",
    "Every logical implication is evaluated based on its *truth table* which can be seen below.\n",
    "![implication_tt](images/implication_tt.png)\n",
    "\n",
    "So if we want to evaluate formula $P(x) \\implies Q(x)$ in so called [First-order logic](https://en.wikipedia.org/wiki/First-order_logic) we first have to evaluate operands $P(x)$ and $Q(x)$. Lets say that $P(x)$, $Q(x)$ will be evaluated to $True$, $False$ respectively. The last step will be evaluation implication operand with given operands $True \\implies False$, which is $False$ according the truth table above.\n",
    "\n",
    "![upward_inference](images/upward_inference.png)\n",
    "\n",
    "How did we get the value for $P$ and $Q$? The $P$ and $Q$ are so called [*predicates*](https://en.wikipedia.org/wiki/Predicate_%28mathematical_logic%29) which can be described with following table. We always evaluate predicate for [*constant*](https://en.wikipedia.org/wiki/Non-logical_symbol), in our case `a`. Later we will see specific example. So in the first row, we see our constants, in the two middle columns truth values for both predicates given specific constant is displayed and the last column contains truth value of evaluated formula with given predicates and given constant.\n",
    "\n",
    "![predicate_tt](images/predicate_tt.png)\n"
   ]
  },
  {
   "cell_type": "markdown",
   "metadata": {},
   "source": [
    "## Grecian domain\n",
    "\n",
    "Now we are ready to move to our specific example and finally create some LNN model. We usually start with formulation of our problem in natural language, that will define our *domain*.\n",
    "\n",
    "* Grecians are mortal.<br>\n",
    "* Zeus is a grecian, is not mortal.<br>\n",
    "* Socrates is a grecian, is mortal.<br>\n",
    "* Confucius is not a grecian, is mortal.<br>\n",
    "* Great Pyramid of Giza is not grecian, is not mortal.\n",
    "\n",
    "What we can see in this domain? We have set of *objects* `{Zeus, Socrates, Confucius, Great Pyramid of Giza}`. These objects can be related in some way. One example is `Zeus is a grecian`. Formally this relation can be represented as predicate in First-order logic. So except objects we can see two predicates `grecian` and `mortal`. Finally we can translate word `are` as logical implication, since if object is `grecian` it will be `mortal` (atlest accordin to our domain).\n",
    "\n",
    "Situation can be described by following table:\n",
    "\n",
    "![grecian_tt](images/grecian_tt.png)"
   ]
  },
  {
   "cell_type": "markdown",
   "metadata": {},
   "source": [
    "## Definition of LNN model\n",
    "\n",
    "Now we can continue with our LNN model definition."
   ]
  },
  {
   "cell_type": "markdown",
   "metadata": {},
   "source": [
    "First we will create an empty model."
   ]
  },
  {
   "cell_type": "code",
   "execution_count": 1,
   "metadata": {},
   "outputs": [],
   "source": [
    "from lnn import Model\n",
    "\n",
    "model = Model()"
   ]
  },
  {
   "cell_type": "markdown",
   "metadata": {},
   "source": [
    "Define our predicates and add them to the model. Note we add predicates as formulae. That is right, since predicate can be understand as atomic formula."
   ]
  },
  {
   "cell_type": "code",
   "execution_count": 2,
   "metadata": {},
   "outputs": [],
   "source": [
    "from lnn import Predicate\n",
    "\n",
    "grecian = Predicate(name=\"grecian\")\n",
    "mortal = Predicate(name=\"mortal\")\n",
    "\n",
    "model.add_formulae(grecian, mortal)"
   ]
  },
  {
   "cell_type": "markdown",
   "metadata": {},
   "source": [
    "Now we create one free variable and use it in definition of our implication `grecians_are_mortals`, which is later added into our model."
   ]
  },
  {
   "cell_type": "code",
   "execution_count": 3,
   "metadata": {},
   "outputs": [],
   "source": [
    "from lnn import Variable, Implies\n",
    "\n",
    "x = Variable(\"x\")\n",
    "\n",
    "grecians_are_mortals = Implies(grecian(x), mortal(x), name=\"grecians_are_mortals\")\n",
    "\n",
    "model.add_formulae(grecians_are_mortals)"
   ]
  },
  {
   "cell_type": "markdown",
   "metadata": {},
   "source": [
    "Last thing is adding so called *facts* into our model. Facts are objects which were mentioned above."
   ]
  },
  {
   "cell_type": "code",
   "execution_count": 4,
   "metadata": {},
   "outputs": [],
   "source": [
    "from lnn import Fact\n",
    "\n",
    "model.add_facts(\n",
    "    {\n",
    "        \"grecian\": {\n",
    "            \"Great Pyramid of Giza\": Fact.FALSE,\n",
    "            \"Confucius\": Fact.FALSE,\n",
    "            \"Zeus\": Fact.TRUE,\n",
    "            \"Socrates\": Fact.TRUE,\n",
    "        },\n",
    "        \"mortal\": {\n",
    "            \"Great Pyramid of Giza\": Fact.FALSE,\n",
    "            \"Confucius\": Fact.TRUE,\n",
    "            \"Zeus\": Fact.FALSE,\n",
    "            \"Socrates\": Fact.TRUE,\n",
    "        },\n",
    "    }\n",
    ")\n"
   ]
  },
  {
   "cell_type": "markdown",
   "metadata": {},
   "source": [
    "### Upward inference inside LNN model"
   ]
  },
  {
   "cell_type": "markdown",
   "metadata": {},
   "source": [
    "Before we start upward inference we can explore our created model. Since formulae and its operands can be represented in syntax tree (graph) we can plot it. We will see three nodes, two of them corresponds to our predicates and third to our implication."
   ]
  },
  {
   "cell_type": "code",
   "execution_count": 5,
   "metadata": {},
   "outputs": [
    {
     "data": {
      "image/png": "[encoded data removed]",
      "text/plain": [
       "<Figure size 432x288 with 1 Axes>"
      ]
     },
     "metadata": {},
     "output_type": "display_data"
    }
   ],
   "source": [
    "from lnn.utils import plot_graph\n",
    "\n",
    "plot_graph(model)"
   ]
  },
  {
   "cell_type": "markdown",
   "metadata": {},
   "source": [
    "Now we have everything ready for upward inference. The \"upward\" in the name comes from the direction in which inference go through syntax tree of the formula. In our case, we will start from atoms (two predicates in our case) and compute truth bounds for each subformula (implication in our case)."
   ]
  },
  {
   "cell_type": "code",
   "execution_count": 6,
   "metadata": {},
   "outputs": [],
   "source": [
    "from lnn import Direction\n",
    "\n",
    "steps, facts_inferred = model.infer(direction=Direction.UPWARD)"
   ]
  },
  {
   "cell_type": "markdown",
   "metadata": {},
   "source": [
    "Result of upward inference can be seen here. We can verify it with our table:\n",
    "\n",
    "![grecian_tt](images/grecian_tt.png)"
   ]
  },
  {
   "cell_type": "code",
   "execution_count": 7,
   "metadata": {},
   "outputs": [
    {
     "name": "stdout",
     "output_type": "stream",
     "text": [
      "OPEN   Implies: grecians_are_mortals(x) \n",
      "'Great Pyramid of Giza'                                     TRUE (1.0, 1.0)\n",
      "'Confucius'                                                 TRUE (1.0, 1.0)\n",
      "'Zeus'                                                     FALSE (0.0, 0.0)\n",
      "'Socrates'                                                  TRUE (1.0, 1.0)\n",
      "\n"
     ]
    }
   ],
   "source": [
    "model[\"grecians_are_mortals\"].print()"
   ]
  }
 ],
 "metadata": {
  "interpreter": {
   "hash": "b08e4317ac3dadd66ff2b630a3808f8622704b72a62f43c1750e624fca33bbd2"
  },
  "kernelspec": {
   "display_name": "Python 3.9.10 ('lnn')",
   "language": "python",
   "name": "python3"
  },
  "language_info": {
   "codemirror_mode": {
    "name": "ipython",
    "version": 3
   },
   "file_extension": ".py",
   "mimetype": "text/x-python",
   "name": "python",
   "nbconvert_exporter": "python",
   "pygments_lexer": "ipython3",
   "version": "3.9.10"
  },
  "orig_nbformat": 4
 },
 "nbformat": 4,
 "nbformat_minor": 2
}
