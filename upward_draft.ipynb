{
 "cells": [
  {
   "cell_type": "code",
   "execution_count": 13,
   "metadata": {},
   "outputs": [],
   "source": [
    "from lnn import Model\n",
    "\n",
    "model = Model()"
   ]
  },
  {
   "cell_type": "code",
   "execution_count": 14,
   "metadata": {},
   "outputs": [],
   "source": [
    "from lnn import Predicate\n",
    "\n",
    "grecian = Predicate(name=\"grecian\")\n",
    "mortal = Predicate(name=\"mortal\")\n",
    "\n",
    "model.add_formulae(grecian, mortal)"
   ]
  },
  {
   "cell_type": "code",
   "execution_count": 15,
   "metadata": {},
   "outputs": [],
   "source": [
    "from lnn import Variable, Implies\n",
    "\n",
    "x = Variable(\"x\")\n",
    "\n",
    "grecians_are_mortals = Implies(grecian(x), mortal(x), name=\"grecians_are_mortals\")\n",
    "\n",
    "model.add_formulae(grecians_are_mortals)"
   ]
  },
  {
   "cell_type": "code",
   "execution_count": 16,
   "metadata": {},
   "outputs": [],
   "source": [
    "from lnn import Fact\n",
    "\n",
    "model.add_facts(\n",
    "    {\n",
    "        \"grecian\": {\n",
    "            \"Zeus\": Fact.TRUE,\n",
    "            \"Socrates\": Fact.TRUE,\n",
    "            \"Confucius\": Fact.FALSE,\n",
    "            \"Great Pyramid of Giza\": Fact.FALSE,\n",
    "        },\n",
    "        \"mortal\": {\n",
    "            \"Zeus\": Fact.FALSE,\n",
    "            \"Socrates\": Fact.TRUE,\n",
    "            \"Confucius\": Fact.TRUE,\n",
    "            \"Great Pyramid of Giza\": Fact.FALSE,\n",
    "        },\n",
    "    }\n",
    ")\n"
   ]
  },
  {
   "cell_type": "code",
   "execution_count": 17,
   "metadata": {},
   "outputs": [],
   "source": [
    "from lnn import Direction\n",
    "\n",
    "steps, facts_inferred = model.infer(direction=Direction.UPWARD)"
   ]
  },
  {
   "cell_type": "code",
   "execution_count": 18,
   "metadata": {},
   "outputs": [
    {
     "name": "stdout",
     "output_type": "stream",
     "text": [
      "\n",
      "***************************************************************************\n",
      "                                LNN Model\n",
      "\n",
      "OPEN   Implies: grecians_are_mortals(x) \n",
      "'Socrates'                                                  TRUE (1.0, 1.0)\n",
      "'Zeus'                                                     FALSE (0.0, 0.0)\n",
      "'Confucius'                                                 TRUE (1.0, 1.0)\n",
      "'Great Pyramid of Giza'                                     TRUE (1.0, 1.0)\n",
      "\n",
      "OPEN   Predicate: mortal(x0) \n",
      "'Socrates'                                                  TRUE (1.0, 1.0)\n",
      "'Zeus'                                                     FALSE (0.0, 0.0)\n",
      "'Confucius'                                                 TRUE (1.0, 1.0)\n",
      "'Great Pyramid of Giza'                                    FALSE (0.0, 0.0)\n",
      "\n",
      "OPEN   Predicate: grecian(x0) \n",
      "'Socrates'                                                  TRUE (1.0, 1.0)\n",
      "'Zeus'                                                      TRUE (1.0, 1.0)\n",
      "'Confucius'                                                FALSE (0.0, 0.0)\n",
      "'Great Pyramid of Giza'                                    FALSE (0.0, 0.0)\n",
      "\n",
      "***************************************************************************\n"
     ]
    }
   ],
   "source": [
    "model.print()"
   ]
  },
  {
   "cell_type": "code",
   "execution_count": null,
   "metadata": {},
   "outputs": [],
   "source": []
  }
 ],
 "metadata": {
  "interpreter": {
   "hash": "b08e4317ac3dadd66ff2b630a3808f8622704b72a62f43c1750e624fca33bbd2"
  },
  "kernelspec": {
   "display_name": "Python 3.9.10 ('lnn')",
   "language": "python",
   "name": "python3"
  },
  "language_info": {
   "codemirror_mode": {
    "name": "ipython",
    "version": 3
   },
   "file_extension": ".py",
   "mimetype": "text/x-python",
   "name": "python",
   "nbconvert_exporter": "python",
   "pygments_lexer": "ipython3",
   "version": "3.9.10"
  },
  "orig_nbformat": 4
 },
 "nbformat": 4,
 "nbformat_minor": 2
}
